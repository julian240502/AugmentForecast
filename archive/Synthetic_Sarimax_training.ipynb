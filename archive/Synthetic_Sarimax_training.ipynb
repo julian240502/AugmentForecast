{
  "cells": [
    {
      "cell_type": "code",
      "execution_count": 1,
      "metadata": {
        "colab": {
          "base_uri": "https://localhost:8080/"
        },
        "id": "Xf_FDfNT86k9",
        "outputId": "e8d8bd28-3939-4dcf-a9b7-07e576f26bd3"
      },
      "outputs": [
        {
          "name": "stdout",
          "output_type": "stream",
          "text": [
            "   price  dayofweek  hourofday\n",
            "0  31.66          0          0\n",
            "1  31.06          0          1\n",
            "2  27.81          0          2\n",
            "3  27.54          0          3\n",
            "4  25.04          0          4\n"
          ]
        }
      ],
      "source": [
        "import pandas as pd\n",
        "import os\n",
        "\n",
        "base_dir = os.getcwd()\n",
        "# Chemins des sous-dossiers pour train et test\n",
        "file_path = os.path.join(base_dir, r'data\\donnees-historiques\\prix\\hourly_day_ahead_prices_2017_2020.parquet')\n",
        "\"\"\"\n",
        "file2_path = '/content/drive/MyDrive/AugmentForecast/data/scenarios-synthetiques/prix/00257.parquet'\n",
        "file3_path = '/content/drive/MyDrive/AugmentForecast/data/scenarios-synthetiques/prix/00724.parquet'\n",
        "\"\"\"\n",
        "data = pd.read_parquet(file_path)\n",
        "\n",
        "\"\"\"\n",
        "data2 = pd.read_parquet(file2_path)\n",
        "data3 = pd.read_parquet(file3_path)\n",
        "\"\"\"\n",
        "\n",
        "\n",
        "# Dossier contenant les fichiers Parquet\n",
        "parquet_dir = os.path.join(base_dir, r'data\\scenarios-synthetiques\\prix')\n",
        "\n",
        "# Liste pour stocker les DataFrames\n",
        "synthetic_data_list = []\n",
        "\n",
        "# Charger chaque fichier Parquet\n",
        "for file in os.listdir(parquet_dir):\n",
        "    if file.endswith(\".parquet\"):\n",
        "        file_path = os.path.join(parquet_dir, file)\n",
        "        synthetic_data_list.append(pd.read_parquet(file_path))\n",
        "\n",
        "# Combiner tous les DataFrames en un seul\n",
        "synthetic_data = pd.concat(synthetic_data_list)\n",
        "\n",
        "# Vérifier les données combinées\n",
        "print(synthetic_data.head())\n",
        "\n",
        "\n",
        "horizons = [6, 12, 24, 48, 72, 168, 8760]  # En heures"
      ]
    },
    {
      "cell_type": "code",
      "execution_count": 2,
      "metadata": {
        "colab": {
          "base_uri": "https://localhost:8080/",
          "height": 300
        },
        "id": "VY4BNJrybyyD",
        "outputId": "88f82ec8-a928-4279-be60-598aba44e182"
      },
      "outputs": [
        {
          "data": {
            "text/html": [
              "<div>\n",
              "<style scoped>\n",
              "    .dataframe tbody tr th:only-of-type {\n",
              "        vertical-align: middle;\n",
              "    }\n",
              "\n",
              "    .dataframe tbody tr th {\n",
              "        vertical-align: top;\n",
              "    }\n",
              "\n",
              "    .dataframe thead th {\n",
              "        text-align: right;\n",
              "    }\n",
              "</style>\n",
              "<table border=\"1\" class=\"dataframe\">\n",
              "  <thead>\n",
              "    <tr style=\"text-align: right;\">\n",
              "      <th></th>\n",
              "      <th>price</th>\n",
              "    </tr>\n",
              "  </thead>\n",
              "  <tbody>\n",
              "    <tr>\n",
              "      <th>count</th>\n",
              "      <td>35064.000000</td>\n",
              "    </tr>\n",
              "    <tr>\n",
              "      <th>mean</th>\n",
              "      <td>41.697606</td>\n",
              "    </tr>\n",
              "    <tr>\n",
              "      <th>std</th>\n",
              "      <td>18.600285</td>\n",
              "    </tr>\n",
              "    <tr>\n",
              "      <th>min</th>\n",
              "      <td>-75.820000</td>\n",
              "    </tr>\n",
              "    <tr>\n",
              "      <th>25%</th>\n",
              "      <td>30.180000</td>\n",
              "    </tr>\n",
              "    <tr>\n",
              "      <th>50%</th>\n",
              "      <td>39.900000</td>\n",
              "    </tr>\n",
              "    <tr>\n",
              "      <th>75%</th>\n",
              "      <td>51.422500</td>\n",
              "    </tr>\n",
              "    <tr>\n",
              "      <th>max</th>\n",
              "      <td>259.950000</td>\n",
              "    </tr>\n",
              "  </tbody>\n",
              "</table>\n",
              "</div>"
            ],
            "text/plain": [
              "              price\n",
              "count  35064.000000\n",
              "mean      41.697606\n",
              "std       18.600285\n",
              "min      -75.820000\n",
              "25%       30.180000\n",
              "50%       39.900000\n",
              "75%       51.422500\n",
              "max      259.950000"
            ]
          },
          "execution_count": 2,
          "metadata": {},
          "output_type": "execute_result"
        }
      ],
      "source": [
        "data.describe()"
      ]
    },
    {
      "cell_type": "code",
      "execution_count": 3,
      "metadata": {
        "colab": {
          "base_uri": "https://localhost:8080/",
          "height": 378
        },
        "id": "95097UDnJPmg",
        "outputId": "c94a89e4-843f-42e9-ee27-3edff45f3d43"
      },
      "outputs": [
        {
          "data": {
            "image/png": "[encoded data removed]",
            "text/plain": [
              "<Figure size 1200x600 with 1 Axes>"
            ]
          },
          "metadata": {},
          "output_type": "display_data"
        }
      ],
      "source": [
        "import matplotlib.pyplot as plt\n",
        "\n",
        "plt.figure(figsize=(12, 6))\n",
        "plt.plot(data.index, data['price'], label='Prix')\n",
        "plt.xlabel('Date')\n",
        "plt.ylabel('Prix')\n",
        "plt.title('Prix par Jour')\n",
        "plt.legend()\n",
        "plt.show()"
      ]
    },
    {
      "cell_type": "code",
      "execution_count": 4,
      "metadata": {
        "colab": {
          "base_uri": "https://localhost:8080/",
          "height": 624
        },
        "id": "wCfVhBzri3j5",
        "outputId": "dd723c43-7554-4438-8f40-69668783f512"
      },
      "outputs": [],
      "source": [
        "# Conversion de l'index des données synthétiques en Timestamp avec UTC\n",
        "synthetic_data.index = pd.to_datetime(synthetic_data.index, unit='h', origin='2016-12-31 23:00:00', utc=True)\n",
        "synthetic_data.rename(columns={\"index\": \"date\"}, inplace=True)  # Renommer la colonne\n"
      ]
    },
    {
      "cell_type": "code",
      "execution_count": 5,
      "metadata": {
        "id": "0G9GkH5TF3Ls"
      },
      "outputs": [],
      "source": [
        "synthetic_data = synthetic_data.drop(columns=[\"hourofday\",\"dayofweek\"])  # Supprimer"
      ]
    },
    {
      "cell_type": "code",
      "execution_count": 6,
      "metadata": {
        "colab": {
          "base_uri": "https://localhost:8080/"
        },
        "id": "G1YmDrD2i-7X",
        "outputId": "11484a55-3ab8-4eed-daee-71418bed97f9"
      },
      "outputs": [
        {
          "name": "stdout",
          "output_type": "stream",
          "text": [
            "<class 'pandas.core.frame.DataFrame'>\n",
            "DatetimeIndex: 5381376 entries, 2016-12-31 23:00:00+00:00 to 2020-12-26 22:00:00+00:00\n",
            "Data columns (total 1 columns):\n",
            " #   Column  Dtype  \n",
            "---  ------  -----  \n",
            " 0   price   float64\n",
            "dtypes: float64(1)\n",
            "memory usage: 82.1 MB\n"
          ]
        }
      ],
      "source": [
        "synthetic_data.info()"
      ]
    },
    {
      "cell_type": "code",
      "execution_count": 7,
      "metadata": {
        "colab": {
          "base_uri": "https://localhost:8080/",
          "height": 434
        },
        "id": "f8u78-abjf5D",
        "outputId": "29371ce9-44f3-4de9-d9db-150a2268f626"
      },
      "outputs": [
        {
          "data": {
            "text/plain": [
              "\"\\nimport matplotlib.pyplot as plt\\n\\nplt.figure(figsize=(12, 6))\\nplt.plot(synthetic_data.index, synthetic_data['price'], label='Prix')\\nplt.xlabel('Date')\\nplt.ylabel('Prix')\\nplt.title('Prix par Jour')\\nplt.legend()\\nplt.show()\\n\""
            ]
          },
          "execution_count": 7,
          "metadata": {},
          "output_type": "execute_result"
        }
      ],
      "source": [
        "\"\"\"\n",
        "import matplotlib.pyplot as plt\n",
        "\n",
        "plt.figure(figsize=(12, 6))\n",
        "plt.plot(synthetic_data.index, synthetic_data['price'], label='Prix')\n",
        "plt.xlabel('Date')\n",
        "plt.ylabel('Prix')\n",
        "plt.title('Prix par Jour')\n",
        "plt.legend()\n",
        "plt.show()\n",
        "\"\"\""
      ]
    },
    {
      "cell_type": "markdown",
      "metadata": {
        "id": "a-ks_jnLmaR7"
      },
      "source": [
        "### gestion du volume des données synthetiques"
      ]
    },
    {
      "cell_type": "code",
      "execution_count": 8,
      "metadata": {
        "id": "xnxAKosYktwN"
      },
      "outputs": [],
      "source": [
        "# Agrégation horaire (moyenne des scénarios pour chaque heure)\n",
        "synthetic_aggregated = synthetic_data.groupby(level=0).mean()\n"
      ]
    },
    {
      "cell_type": "code",
      "execution_count": 9,
      "metadata": {
        "colab": {
          "base_uri": "https://localhost:8080/"
        },
        "id": "n_Vp5g-srA1L",
        "outputId": "c993b72e-03cd-4bd0-c931-0e66b27a1b6a"
      },
      "outputs": [
        {
          "name": "stdout",
          "output_type": "stream",
          "text": [
            "<class 'pandas.core.frame.DataFrame'>\n",
            "DatetimeIndex: 5381376 entries, 2016-12-31 23:00:00+00:00 to 2020-12-26 22:00:00+00:00\n",
            "Data columns (total 1 columns):\n",
            " #   Column  Dtype  \n",
            "---  ------  -----  \n",
            " 0   price   float64\n",
            "dtypes: float64(1)\n",
            "memory usage: 82.1 MB\n",
            "None\n",
            "              price\n",
            "count  5.381376e+06\n",
            "mean   4.165089e+01\n",
            "std    1.797841e+01\n",
            "min   -7.582000e+01\n",
            "25%    3.048000e+01\n",
            "50%    3.986000e+01\n",
            "75%    5.100000e+01\n",
            "max    2.599500e+02\n"
          ]
        }
      ],
      "source": [
        "print(synthetic_data.info())\n",
        "print(synthetic_data.describe())"
      ]
    },
    {
      "cell_type": "code",
      "execution_count": 10,
      "metadata": {
        "colab": {
          "base_uri": "https://localhost:8080/"
        },
        "id": "-JiOXaWYq7gU",
        "outputId": "fb712d01-cdfb-4802-fa95-486bed636bb0"
      },
      "outputs": [
        {
          "name": "stdout",
          "output_type": "stream",
          "text": [
            "<class 'pandas.core.frame.DataFrame'>\n",
            "DatetimeIndex: 34944 entries, 2016-12-31 23:00:00+00:00 to 2020-12-26 22:00:00+00:00\n",
            "Data columns (total 1 columns):\n",
            " #   Column  Non-Null Count  Dtype  \n",
            "---  ------  --------------  -----  \n",
            " 0   price   34944 non-null  float64\n",
            "dtypes: float64(1)\n",
            "memory usage: 546.0 KB\n",
            "None\n",
            "              price\n",
            "count  34944.000000\n",
            "mean      41.650886\n",
            "std        8.713591\n",
            "min       18.554221\n",
            "25%       34.008994\n",
            "50%       42.948864\n",
            "75%       48.271737\n",
            "max       68.028052\n",
            "                           price\n",
            "2016-12-31 23:00:00+00:00  31.66\n",
            "2017-01-01 00:00:00+00:00  31.06\n",
            "2017-01-01 01:00:00+00:00  27.81\n",
            "2017-01-01 02:00:00+00:00  27.54\n",
            "2017-01-01 03:00:00+00:00  25.04\n"
          ]
        }
      ],
      "source": [
        "print(synthetic_aggregated.info())\n",
        "print(synthetic_aggregated.describe())\n",
        "print(synthetic_aggregated.head())\n"
      ]
    },
    {
      "cell_type": "code",
      "execution_count": 11,
      "metadata": {
        "colab": {
          "base_uri": "https://localhost:8080/",
          "height": 382
        },
        "id": "Ba3KCwOnqsn7",
        "outputId": "5963147d-2f94-49b2-ac67-59d92dce9a1f"
      },
      "outputs": [
        {
          "data": {
            "text/plain": [
              "\"\\nimport matplotlib.pyplot as plt\\n\\nplt.figure(figsize=(12, 6))\\nplt.plot(synthetic_aggregated.index, synthetic_aggregated['price'], label='Prix')\\nplt.xlabel('Date')\\nplt.ylabel('Prix')\\nplt.title('Prix par Jour')\\nplt.legend()\\nplt.show()\\n\""
            ]
          },
          "execution_count": 11,
          "metadata": {},
          "output_type": "execute_result"
        }
      ],
      "source": [
        "\"\"\"\n",
        "import matplotlib.pyplot as plt\n",
        "\n",
        "plt.figure(figsize=(12, 6))\n",
        "plt.plot(synthetic_aggregated.index, synthetic_aggregated['price'], label='Prix')\n",
        "plt.xlabel('Date')\n",
        "plt.ylabel('Prix')\n",
        "plt.title('Prix par Jour')\n",
        "plt.legend()\n",
        "plt.show()\n",
        "\"\"\""
      ]
    },
    {
      "cell_type": "markdown",
      "metadata": {
        "id": "B7H1XmZMiWZ7"
      },
      "source": [
        "### FUsion"
      ]
    },
    {
      "cell_type": "code",
      "execution_count": 12,
      "metadata": {
        "colab": {
          "base_uri": "https://localhost:8080/"
        },
        "id": "Paef3Xy5CEjx",
        "outputId": "8f0fcd3a-8b12-4e5f-8112-2115e37babb8"
      },
      "outputs": [
        {
          "name": "stdout",
          "output_type": "stream",
          "text": [
            "<class 'pandas.core.frame.DataFrame'>\n",
            "DatetimeIndex: 35064 entries, 2016-12-31 23:00:00+00:00 to 2020-12-31 22:00:00+00:00\n",
            "Data columns (total 1 columns):\n",
            " #   Column  Non-Null Count  Dtype  \n",
            "---  ------  --------------  -----  \n",
            " 0   price   35064 non-null  float64\n",
            "dtypes: float64(1)\n",
            "memory usage: 547.9 KB\n",
            "None\n",
            "              price\n",
            "count  35064.000000\n",
            "mean      41.674980\n",
            "std       11.830133\n",
            "min      -15.532597\n",
            "25%       33.515755\n",
            "50%       41.301380\n",
            "75%       48.877265\n",
            "max      156.251753\n",
            "                            price\n",
            "2016-12-31 23:00:00+00:00  45.240\n",
            "2017-01-01 00:00:00+00:00  44.645\n",
            "2017-01-01 01:00:00+00:00  39.880\n",
            "2017-01-01 02:00:00+00:00  37.405\n",
            "2017-01-01 03:00:00+00:00  35.265\n"
          ]
        }
      ],
      "source": [
        "data_combined = pd.concat([data, synthetic_aggregated]).sort_index()\n",
        "#Calcul de la moyenne des valeurs par heure après concaténation\n",
        "data_combined = data_combined.groupby(level=0).mean()\n",
        "\n",
        "\n",
        "# Vérification des données combinées\n",
        "print(data_combined.info())\n",
        "print(data_combined.describe())\n",
        "print(data_combined.head())\n",
        "\n",
        "\n",
        "\n"
      ]
    },
    {
      "cell_type": "code",
      "execution_count": 13,
      "metadata": {
        "colab": {
          "base_uri": "https://localhost:8080/"
        },
        "id": "QjtaiYBvCT0l",
        "outputId": "4b4fedb9-6709-477e-acdb-4763c57f26c3"
      },
      "outputs": [
        {
          "name": "stdout",
          "output_type": "stream",
          "text": [
            "price    0\n",
            "dtype: int64\n"
          ]
        }
      ],
      "source": [
        "# Vérifiez qu'il n'y a pas de valeurs manquantes\n",
        "print(data_combined.isna().sum())"
      ]
    },
    {
      "cell_type": "markdown",
      "metadata": {
        "id": "0DT2WDypCXq9"
      },
      "source": [
        "### train"
      ]
    },
    {
      "cell_type": "code",
      "execution_count": 14,
      "metadata": {
        "id": "P0INQ4vmDmm1"
      },
      "outputs": [],
      "source": [
        "# Créer des features temporelles\n",
        "data_combined['hour'] = data_combined.index.hour  # Heure de la journée\n",
        "data_combined['day_of_week'] = data_combined.index.dayofweek  # Jour de la semaine (0 = Lundi)\n",
        "data_combined['is_weekend'] = (data_combined['day_of_week'] >= 5).astype(int)  # 1 = Week-end\n",
        "\n",
        "# Ajouter des décalages temporels (lag features)\n",
        "data_combined['price_lag_1'] = data_combined['price'].shift(1)  # Lag de 1\n",
        "data_combined['price_lag_24'] = data_combined['price'].shift(24)  # Lag d'une journée (pour données horaires)\n",
        "\n",
        "# Supprimer les lignes avec des NaN (causés par les lags)\n",
        "data_combined.dropna(inplace=True)"
      ]
    },
    {
      "cell_type": "code",
      "execution_count": 15,
      "metadata": {
        "id": "Ymz8bKz8D3ZV"
      },
      "outputs": [],
      "source": [
        "from sklearn.preprocessing import MinMaxScaler\n",
        "\n",
        "# Normalisation des colonnes numériques\n",
        "scaler = MinMaxScaler()\n",
        "data_combined[['price_scaled', 'price_lag_1', 'price_lag_24']] = scaler.fit_transform(data_combined[['price', 'price_lag_1', 'price_lag_24']])"
      ]
    },
    {
      "cell_type": "code",
      "execution_count": 16,
      "metadata": {
        "colab": {
          "base_uri": "https://localhost:8080/"
        },
        "id": "8c2XIhgHCbsy",
        "outputId": "05a90d85-6d2b-43bc-fc69-af8c32476565"
      },
      "outputs": [
        {
          "name": "stdout",
          "output_type": "stream",
          "text": [
            "Train : 26257 lignes\n",
            "Test : 8783 lignes\n"
          ]
        }
      ],
      "source": [
        "# Division temporelle des données\n",
        "train = data_combined[:'2019']\n",
        "test = data['2020':]\n",
        "\n",
        "# Vérifier les dimensions des ensembles\n",
        "print(f\"Train : {train.shape[0]} lignes\")\n",
        "print(f\"Test : {test.shape[0]} lignes\")\n",
        "\n"
      ]
    },
    {
      "cell_type": "code",
      "execution_count": 17,
      "metadata": {},
      "outputs": [
        {
          "name": "stdout",
          "output_type": "stream",
          "text": [
            "<class 'pandas.core.frame.DataFrame'>\n",
            "DatetimeIndex: 26257 entries, 2017-01-01 23:00:00+00:00 to 2019-12-31 23:00:00+00:00\n",
            "Data columns (total 7 columns):\n",
            " #   Column        Non-Null Count  Dtype  \n",
            "---  ------        --------------  -----  \n",
            " 0   price         26257 non-null  float64\n",
            " 1   hour          26257 non-null  int32  \n",
            " 2   day_of_week   26257 non-null  int32  \n",
            " 3   is_weekend    26257 non-null  int64  \n",
            " 4   price_lag_1   26257 non-null  float64\n",
            " 5   price_lag_24  26257 non-null  float64\n",
            " 6   price_scaled  26257 non-null  float64\n",
            "dtypes: float64(4), int32(2), int64(1)\n",
            "memory usage: 1.4 MB\n"
          ]
        }
      ],
      "source": [
        "train.info()"
      ]
    },
    {
      "cell_type": "code",
      "execution_count": 18,
      "metadata": {},
      "outputs": [
        {
          "name": "stdout",
          "output_type": "stream",
          "text": [
            "<class 'pandas.core.frame.DataFrame'>\n",
            "DatetimeIndex: 8783 entries, 2020-01-01 00:00:00+00:00 to 2020-12-31 22:00:00+00:00\n",
            "Data columns (total 1 columns):\n",
            " #   Column  Non-Null Count  Dtype  \n",
            "---  ------  --------------  -----  \n",
            " 0   price   8783 non-null   float64\n",
            "dtypes: float64(1)\n",
            "memory usage: 137.2 KB\n"
          ]
        }
      ],
      "source": [
        "test.info()"
      ]
    },
    {
      "cell_type": "code",
      "execution_count": 19,
      "metadata": {
        "colab": {
          "base_uri": "https://localhost:8080/"
        },
        "id": "5T4diiTQCnOf",
        "outputId": "ccc91c50-0b50-4265-b6ce-6edddd25980b"
      },
      "outputs": [
        {
          "name": "stderr",
          "output_type": "stream",
          "text": [
            "Prédiction Multi-Horizons:   0%|          | 0/7 [00:00<?, ?it/s]c:\\Users\\akues\\OneDrive\\Documents\\GitHub\\AugmentForecast\\.venv\\Lib\\site-packages\\statsmodels\\tsa\\base\\tsa_model.py:473: ValueWarning: No frequency information was provided, so inferred frequency h will be used.\n",
            "  self._init_dates(dates, freq)\n",
            "c:\\Users\\akues\\OneDrive\\Documents\\GitHub\\AugmentForecast\\.venv\\Lib\\site-packages\\statsmodels\\tsa\\base\\tsa_model.py:473: ValueWarning: No frequency information was provided, so inferred frequency h will be used.\n",
            "  self._init_dates(dates, freq)\n",
            "Prédiction Multi-Horizons:  14%|█▍        | 1/7 [00:35<03:35, 35.84s/it]c:\\Users\\akues\\OneDrive\\Documents\\GitHub\\AugmentForecast\\.venv\\Lib\\site-packages\\statsmodels\\tsa\\base\\tsa_model.py:473: ValueWarning: No frequency information was provided, so inferred frequency h will be used.\n",
            "  self._init_dates(dates, freq)\n",
            "c:\\Users\\akues\\OneDrive\\Documents\\GitHub\\AugmentForecast\\.venv\\Lib\\site-packages\\statsmodels\\tsa\\base\\tsa_model.py:473: ValueWarning: No frequency information was provided, so inferred frequency h will be used.\n",
            "  self._init_dates(dates, freq)\n",
            "Prédiction Multi-Horizons:  29%|██▊       | 2/7 [01:26<03:41, 44.28s/it]c:\\Users\\akues\\OneDrive\\Documents\\GitHub\\AugmentForecast\\.venv\\Lib\\site-packages\\statsmodels\\tsa\\base\\tsa_model.py:473: ValueWarning: No frequency information was provided, so inferred frequency h will be used.\n",
            "  self._init_dates(dates, freq)\n",
            "c:\\Users\\akues\\OneDrive\\Documents\\GitHub\\AugmentForecast\\.venv\\Lib\\site-packages\\statsmodels\\tsa\\base\\tsa_model.py:473: ValueWarning: No frequency information was provided, so inferred frequency h will be used.\n",
            "  self._init_dates(dates, freq)\n",
            "Prédiction Multi-Horizons:  43%|████▎     | 3/7 [02:03<02:45, 41.37s/it]c:\\Users\\akues\\OneDrive\\Documents\\GitHub\\AugmentForecast\\.venv\\Lib\\site-packages\\statsmodels\\tsa\\base\\tsa_model.py:473: ValueWarning: No frequency information was provided, so inferred frequency h will be used.\n",
            "  self._init_dates(dates, freq)\n",
            "c:\\Users\\akues\\OneDrive\\Documents\\GitHub\\AugmentForecast\\.venv\\Lib\\site-packages\\statsmodels\\tsa\\base\\tsa_model.py:473: ValueWarning: No frequency information was provided, so inferred frequency h will be used.\n",
            "  self._init_dates(dates, freq)\n",
            "Prédiction Multi-Horizons:  57%|█████▋    | 4/7 [02:44<02:03, 41.03s/it]c:\\Users\\akues\\OneDrive\\Documents\\GitHub\\AugmentForecast\\.venv\\Lib\\site-packages\\statsmodels\\tsa\\base\\tsa_model.py:473: ValueWarning: No frequency information was provided, so inferred frequency h will be used.\n",
            "  self._init_dates(dates, freq)\n",
            "c:\\Users\\akues\\OneDrive\\Documents\\GitHub\\AugmentForecast\\.venv\\Lib\\site-packages\\statsmodels\\tsa\\base\\tsa_model.py:473: ValueWarning: No frequency information was provided, so inferred frequency h will be used.\n",
            "  self._init_dates(dates, freq)\n",
            "Prédiction Multi-Horizons:  71%|███████▏  | 5/7 [03:22<01:20, 40.07s/it]c:\\Users\\akues\\OneDrive\\Documents\\GitHub\\AugmentForecast\\.venv\\Lib\\site-packages\\statsmodels\\tsa\\base\\tsa_model.py:473: ValueWarning: No frequency information was provided, so inferred frequency h will be used.\n",
            "  self._init_dates(dates, freq)\n",
            "c:\\Users\\akues\\OneDrive\\Documents\\GitHub\\AugmentForecast\\.venv\\Lib\\site-packages\\statsmodels\\tsa\\base\\tsa_model.py:473: ValueWarning: No frequency information was provided, so inferred frequency h will be used.\n",
            "  self._init_dates(dates, freq)\n",
            "Prédiction Multi-Horizons:  86%|████████▌ | 6/7 [04:05<00:40, 40.97s/it]c:\\Users\\akues\\OneDrive\\Documents\\GitHub\\AugmentForecast\\.venv\\Lib\\site-packages\\statsmodels\\tsa\\base\\tsa_model.py:473: ValueWarning: No frequency information was provided, so inferred frequency h will be used.\n",
            "  self._init_dates(dates, freq)\n",
            "c:\\Users\\akues\\OneDrive\\Documents\\GitHub\\AugmentForecast\\.venv\\Lib\\site-packages\\statsmodels\\tsa\\base\\tsa_model.py:473: ValueWarning: No frequency information was provided, so inferred frequency h will be used.\n",
            "  self._init_dates(dates, freq)\n",
            "Prédiction Multi-Horizons: 100%|██████████| 7/7 [04:44<00:00, 40.59s/it]\n"
          ]
        }
      ],
      "source": [
        "from statsmodels.tsa.statespace.sarimax import SARIMAX\n",
        "from tqdm import tqdm\n",
        "import pandas as pd\n",
        "import matplotlib.pyplot as plt\n",
        "\n",
        "# Liste pour stocker les prédictions par horizon\n",
        "# Liste pour stocker les prédictions\n",
        "model_name='SARIMAX'\n",
        "predictions = {}\n",
        "\n",
        "# Ajout de tqdm pour suivre la progression\n",
        "for horizon in tqdm(horizons, desc=\"Prédiction Multi-Horizons\"):\n",
        "    # Entraîner un modèle SARIMA pour chaque horizon\n",
        "    model = SARIMAX(train['price'],\n",
        "                    order=(1, 1, 1),  # ARIMA(p, d, q)\n",
        "                    seasonal_order=(1, 1, 1, 24),  # Période saisonnière\n",
        "                    enforce_stationarity=False,\n",
        "                    enforce_invertibility=False)\n",
        "    sarima_model = model.fit(disp=False)\n",
        "\n",
        "    # Faire des prédictions sur l'horizon défini\n",
        "    forecast = sarima_model.forecast(steps=horizon)\n",
        "    predictions[horizon] = forecast\n",
        "\n",
        "\n"
      ]
    },
    {
      "cell_type": "code",
      "execution_count": 20,
      "metadata": {
        "id": "SDor9i59EPMa"
      },
      "outputs": [
        {
          "name": "stderr",
          "output_type": "stream",
          "text": [
            "C:\\Users\\akues\\AppData\\Local\\Temp\\ipykernel_4216\\1857892762.py:3: SettingWithCopyWarning: \n",
            "A value is trying to be set on a copy of a slice from a DataFrame.\n",
            "Try using .loc[row_indexer,col_indexer] = value instead\n",
            "\n",
            "See the caveats in the documentation: https://pandas.pydata.org/pandas-docs/stable/user_guide/indexing.html#returning-a-view-versus-a-copy\n",
            "  test[f'price_horizon_{horizon}'] = test['price'].shift(-horizon)  # Décalage pour comparer\n"
          ]
        },
        {
          "name": "stdout",
          "output_type": "stream",
          "text": [
            "                           price  price_horizon_6  price_horizon_12  \\\n",
            "date                                                                  \n",
            "2020-01-01 00:00:00+00:00  38.60            30.00             30.04   \n",
            "2020-01-01 01:00:00+00:00  36.55            30.65             30.75   \n",
            "2020-01-01 02:00:00+00:00  32.32            30.65             32.11   \n",
            "2020-01-01 03:00:00+00:00  30.85            30.27             35.98   \n",
            "2020-01-01 04:00:00+00:00  30.14            30.34             40.40   \n",
            "...                          ...              ...               ...   \n",
            "2020-01-04 13:00:00+00:00  31.83            39.53             31.18   \n",
            "2020-01-04 14:00:00+00:00  31.95            34.46             30.10   \n",
            "2020-01-04 15:00:00+00:00  32.25            39.75             29.96   \n",
            "2020-01-04 16:00:00+00:00  41.81            37.95             29.88   \n",
            "2020-01-04 17:00:00+00:00  44.24            33.10             30.38   \n",
            "\n",
            "                           price_horizon_24  price_horizon_48  \\\n",
            "date                                                            \n",
            "2020-01-01 00:00:00+00:00             31.98             30.75   \n",
            "2020-01-01 01:00:00+00:00             30.50             29.03   \n",
            "2020-01-01 02:00:00+00:00             28.79             24.96   \n",
            "2020-01-01 03:00:00+00:00             28.42             22.56   \n",
            "2020-01-01 04:00:00+00:00             28.75             26.16   \n",
            "...                                     ...               ...   \n",
            "2020-01-04 13:00:00+00:00             34.44             41.22   \n",
            "2020-01-04 14:00:00+00:00             36.10             43.28   \n",
            "2020-01-04 15:00:00+00:00             40.59             43.68   \n",
            "2020-01-04 16:00:00+00:00             44.68             47.90   \n",
            "2020-01-04 17:00:00+00:00             46.16             48.91   \n",
            "\n",
            "                           price_horizon_72  price_horizon_168  \\\n",
            "date                                                             \n",
            "2020-01-01 00:00:00+00:00             32.05              27.28   \n",
            "2020-01-01 01:00:00+00:00             30.14              26.16   \n",
            "2020-01-01 02:00:00+00:00             28.55              20.86   \n",
            "2020-01-01 03:00:00+00:00             26.24              20.35   \n",
            "2020-01-01 04:00:00+00:00             27.55              28.52   \n",
            "...                                     ...                ...   \n",
            "2020-01-04 13:00:00+00:00             47.24              31.59   \n",
            "2020-01-04 14:00:00+00:00             45.48              32.51   \n",
            "2020-01-04 15:00:00+00:00             45.90              33.71   \n",
            "2020-01-04 16:00:00+00:00             47.96              41.05   \n",
            "2020-01-04 17:00:00+00:00             48.11              44.62   \n",
            "\n",
            "                           price_horizon_8760  \n",
            "date                                           \n",
            "2020-01-01 00:00:00+00:00               37.03  \n",
            "2020-01-01 01:00:00+00:00               35.25  \n",
            "2020-01-01 02:00:00+00:00               31.82  \n",
            "2020-01-01 03:00:00+00:00               31.67  \n",
            "2020-01-01 04:00:00+00:00               34.00  \n",
            "...                                       ...  \n",
            "2020-01-04 13:00:00+00:00                 NaN  \n",
            "2020-01-04 14:00:00+00:00                 NaN  \n",
            "2020-01-04 15:00:00+00:00                 NaN  \n",
            "2020-01-04 16:00:00+00:00                 NaN  \n",
            "2020-01-04 17:00:00+00:00                 NaN  \n",
            "\n",
            "[90 rows x 8 columns]\n"
          ]
        },
        {
          "name": "stderr",
          "output_type": "stream",
          "text": [
            "C:\\Users\\akues\\AppData\\Local\\Temp\\ipykernel_4216\\1857892762.py:3: SettingWithCopyWarning: \n",
            "A value is trying to be set on a copy of a slice from a DataFrame.\n",
            "Try using .loc[row_indexer,col_indexer] = value instead\n",
            "\n",
            "See the caveats in the documentation: https://pandas.pydata.org/pandas-docs/stable/user_guide/indexing.html#returning-a-view-versus-a-copy\n",
            "  test[f'price_horizon_{horizon}'] = test['price'].shift(-horizon)  # Décalage pour comparer\n",
            "C:\\Users\\akues\\AppData\\Local\\Temp\\ipykernel_4216\\1857892762.py:3: SettingWithCopyWarning: \n",
            "A value is trying to be set on a copy of a slice from a DataFrame.\n",
            "Try using .loc[row_indexer,col_indexer] = value instead\n",
            "\n",
            "See the caveats in the documentation: https://pandas.pydata.org/pandas-docs/stable/user_guide/indexing.html#returning-a-view-versus-a-copy\n",
            "  test[f'price_horizon_{horizon}'] = test['price'].shift(-horizon)  # Décalage pour comparer\n",
            "C:\\Users\\akues\\AppData\\Local\\Temp\\ipykernel_4216\\1857892762.py:3: SettingWithCopyWarning: \n",
            "A value is trying to be set on a copy of a slice from a DataFrame.\n",
            "Try using .loc[row_indexer,col_indexer] = value instead\n",
            "\n",
            "See the caveats in the documentation: https://pandas.pydata.org/pandas-docs/stable/user_guide/indexing.html#returning-a-view-versus-a-copy\n",
            "  test[f'price_horizon_{horizon}'] = test['price'].shift(-horizon)  # Décalage pour comparer\n",
            "C:\\Users\\akues\\AppData\\Local\\Temp\\ipykernel_4216\\1857892762.py:3: SettingWithCopyWarning: \n",
            "A value is trying to be set on a copy of a slice from a DataFrame.\n",
            "Try using .loc[row_indexer,col_indexer] = value instead\n",
            "\n",
            "See the caveats in the documentation: https://pandas.pydata.org/pandas-docs/stable/user_guide/indexing.html#returning-a-view-versus-a-copy\n",
            "  test[f'price_horizon_{horizon}'] = test['price'].shift(-horizon)  # Décalage pour comparer\n",
            "C:\\Users\\akues\\AppData\\Local\\Temp\\ipykernel_4216\\1857892762.py:3: SettingWithCopyWarning: \n",
            "A value is trying to be set on a copy of a slice from a DataFrame.\n",
            "Try using .loc[row_indexer,col_indexer] = value instead\n",
            "\n",
            "See the caveats in the documentation: https://pandas.pydata.org/pandas-docs/stable/user_guide/indexing.html#returning-a-view-versus-a-copy\n",
            "  test[f'price_horizon_{horizon}'] = test['price'].shift(-horizon)  # Décalage pour comparer\n",
            "C:\\Users\\akues\\AppData\\Local\\Temp\\ipykernel_4216\\1857892762.py:3: SettingWithCopyWarning: \n",
            "A value is trying to be set on a copy of a slice from a DataFrame.\n",
            "Try using .loc[row_indexer,col_indexer] = value instead\n",
            "\n",
            "See the caveats in the documentation: https://pandas.pydata.org/pandas-docs/stable/user_guide/indexing.html#returning-a-view-versus-a-copy\n",
            "  test[f'price_horizon_{horizon}'] = test['price'].shift(-horizon)  # Décalage pour comparer\n"
          ]
        }
      ],
      "source": [
        "\n",
        "# Ajouter les données réelles pour chaque horizon\n",
        "for horizon in horizons:\n",
        "    test[f'price_horizon_{horizon}'] = test['price'].shift(-horizon)  # Décalage pour comparer\n",
        "\n",
        "# Vérifier les données\n",
        "print(test.head(90))\n"
      ]
    },
    {
      "cell_type": "code",
      "execution_count": 21,
      "metadata": {
        "id": "YWbm1xKIEhr4"
      },
      "outputs": [
        {
          "ename": "ValueError",
          "evalue": "Length mismatch: Expected axis has 8760 elements, new values have 23 elements",
          "output_type": "error",
          "traceback": [
            "\u001b[1;31m---------------------------------------------------------------------------\u001b[0m",
            "\u001b[1;31mValueError\u001b[0m                                Traceback (most recent call last)",
            "Cell \u001b[1;32mIn[21], line 17\u001b[0m\n\u001b[0;32m     14\u001b[0m predicted \u001b[38;5;241m=\u001b[39m predictions[horizon]\n\u001b[0;32m     16\u001b[0m \u001b[38;5;66;03m# Remplacer l'index de predicted par celui de actual\u001b[39;00m\n\u001b[1;32m---> 17\u001b[0m \u001b[43mpredicted\u001b[49m\u001b[38;5;241;43m.\u001b[39;49m\u001b[43mindex\u001b[49m \u001b[38;5;241m=\u001b[39m actual\u001b[38;5;241m.\u001b[39mindex\n\u001b[0;32m     20\u001b[0m \u001b[38;5;66;03m# Calculer les métriques uniquement sur les tailles correspondantes\u001b[39;00m\n\u001b[0;32m     21\u001b[0m mae \u001b[38;5;241m=\u001b[39m mean_absolute_error(actual, predicted)\n",
            "File \u001b[1;32mc:\\Users\\akues\\OneDrive\\Documents\\GitHub\\AugmentForecast\\.venv\\Lib\\site-packages\\pandas\\core\\generic.py:6313\u001b[0m, in \u001b[0;36mNDFrame.__setattr__\u001b[1;34m(self, name, value)\u001b[0m\n\u001b[0;32m   6311\u001b[0m \u001b[38;5;28;01mtry\u001b[39;00m:\n\u001b[0;32m   6312\u001b[0m     \u001b[38;5;28mobject\u001b[39m\u001b[38;5;241m.\u001b[39m\u001b[38;5;21m__getattribute__\u001b[39m(\u001b[38;5;28mself\u001b[39m, name)\n\u001b[1;32m-> 6313\u001b[0m     \u001b[38;5;28;01mreturn\u001b[39;00m \u001b[38;5;28;43mobject\u001b[39;49m\u001b[38;5;241;43m.\u001b[39;49m\u001b[38;5;21;43m__setattr__\u001b[39;49m\u001b[43m(\u001b[49m\u001b[38;5;28;43mself\u001b[39;49m\u001b[43m,\u001b[49m\u001b[43m \u001b[49m\u001b[43mname\u001b[49m\u001b[43m,\u001b[49m\u001b[43m \u001b[49m\u001b[43mvalue\u001b[49m\u001b[43m)\u001b[49m\n\u001b[0;32m   6314\u001b[0m \u001b[38;5;28;01mexcept\u001b[39;00m \u001b[38;5;167;01mAttributeError\u001b[39;00m:\n\u001b[0;32m   6315\u001b[0m     \u001b[38;5;28;01mpass\u001b[39;00m\n",
            "File \u001b[1;32mproperties.pyx:69\u001b[0m, in \u001b[0;36mpandas._libs.properties.AxisProperty.__set__\u001b[1;34m()\u001b[0m\n",
            "File \u001b[1;32mc:\\Users\\akues\\OneDrive\\Documents\\GitHub\\AugmentForecast\\.venv\\Lib\\site-packages\\pandas\\core\\generic.py:814\u001b[0m, in \u001b[0;36mNDFrame._set_axis\u001b[1;34m(self, axis, labels)\u001b[0m\n\u001b[0;32m    809\u001b[0m \u001b[38;5;250m\u001b[39m\u001b[38;5;124;03m\"\"\"\u001b[39;00m\n\u001b[0;32m    810\u001b[0m \u001b[38;5;124;03mThis is called from the cython code when we set the `index` attribute\u001b[39;00m\n\u001b[0;32m    811\u001b[0m \u001b[38;5;124;03mdirectly, e.g. `series.index = [1, 2, 3]`.\u001b[39;00m\n\u001b[0;32m    812\u001b[0m \u001b[38;5;124;03m\"\"\"\u001b[39;00m\n\u001b[0;32m    813\u001b[0m labels \u001b[38;5;241m=\u001b[39m ensure_index(labels)\n\u001b[1;32m--> 814\u001b[0m \u001b[38;5;28;43mself\u001b[39;49m\u001b[38;5;241;43m.\u001b[39;49m\u001b[43m_mgr\u001b[49m\u001b[38;5;241;43m.\u001b[39;49m\u001b[43mset_axis\u001b[49m\u001b[43m(\u001b[49m\u001b[43maxis\u001b[49m\u001b[43m,\u001b[49m\u001b[43m \u001b[49m\u001b[43mlabels\u001b[49m\u001b[43m)\u001b[49m\n\u001b[0;32m    815\u001b[0m \u001b[38;5;28mself\u001b[39m\u001b[38;5;241m.\u001b[39m_clear_item_cache()\n",
            "File \u001b[1;32mc:\\Users\\akues\\OneDrive\\Documents\\GitHub\\AugmentForecast\\.venv\\Lib\\site-packages\\pandas\\core\\internals\\managers.py:238\u001b[0m, in \u001b[0;36mBaseBlockManager.set_axis\u001b[1;34m(self, axis, new_labels)\u001b[0m\n\u001b[0;32m    236\u001b[0m \u001b[38;5;28;01mdef\u001b[39;00m\u001b[38;5;250m \u001b[39m\u001b[38;5;21mset_axis\u001b[39m(\u001b[38;5;28mself\u001b[39m, axis: AxisInt, new_labels: Index) \u001b[38;5;241m-\u001b[39m\u001b[38;5;241m>\u001b[39m \u001b[38;5;28;01mNone\u001b[39;00m:\n\u001b[0;32m    237\u001b[0m     \u001b[38;5;66;03m# Caller is responsible for ensuring we have an Index object.\u001b[39;00m\n\u001b[1;32m--> 238\u001b[0m     \u001b[38;5;28;43mself\u001b[39;49m\u001b[38;5;241;43m.\u001b[39;49m\u001b[43m_validate_set_axis\u001b[49m\u001b[43m(\u001b[49m\u001b[43maxis\u001b[49m\u001b[43m,\u001b[49m\u001b[43m \u001b[49m\u001b[43mnew_labels\u001b[49m\u001b[43m)\u001b[49m\n\u001b[0;32m    239\u001b[0m     \u001b[38;5;28mself\u001b[39m\u001b[38;5;241m.\u001b[39maxes[axis] \u001b[38;5;241m=\u001b[39m new_labels\n",
            "File \u001b[1;32mc:\\Users\\akues\\OneDrive\\Documents\\GitHub\\AugmentForecast\\.venv\\Lib\\site-packages\\pandas\\core\\internals\\base.py:98\u001b[0m, in \u001b[0;36mDataManager._validate_set_axis\u001b[1;34m(self, axis, new_labels)\u001b[0m\n\u001b[0;32m     95\u001b[0m     \u001b[38;5;28;01mpass\u001b[39;00m\n\u001b[0;32m     97\u001b[0m \u001b[38;5;28;01melif\u001b[39;00m new_len \u001b[38;5;241m!=\u001b[39m old_len:\n\u001b[1;32m---> 98\u001b[0m     \u001b[38;5;28;01mraise\u001b[39;00m \u001b[38;5;167;01mValueError\u001b[39;00m(\n\u001b[0;32m     99\u001b[0m         \u001b[38;5;124mf\u001b[39m\u001b[38;5;124m\"\u001b[39m\u001b[38;5;124mLength mismatch: Expected axis has \u001b[39m\u001b[38;5;132;01m{\u001b[39;00mold_len\u001b[38;5;132;01m}\u001b[39;00m\u001b[38;5;124m elements, new \u001b[39m\u001b[38;5;124m\"\u001b[39m\n\u001b[0;32m    100\u001b[0m         \u001b[38;5;124mf\u001b[39m\u001b[38;5;124m\"\u001b[39m\u001b[38;5;124mvalues have \u001b[39m\u001b[38;5;132;01m{\u001b[39;00mnew_len\u001b[38;5;132;01m}\u001b[39;00m\u001b[38;5;124m elements\u001b[39m\u001b[38;5;124m\"\u001b[39m\n\u001b[0;32m    101\u001b[0m     )\n",
            "\u001b[1;31mValueError\u001b[0m: Length mismatch: Expected axis has 8760 elements, new values have 23 elements"
          ]
        }
      ],
      "source": [
        "\n",
        "\n",
        "from sklearn.metrics import mean_absolute_error, mean_squared_error\n",
        "import numpy as np\n",
        "\n",
        "# Initialiser un dictionnaire pour stocker les métriques\n",
        "metrics = {}\n",
        "\n",
        "# Évaluer pour chaque horizon\n",
        "# Ajuster la taille de actual et predicted pour chaque horizon\n",
        "for horizon in horizons:\n",
        "    # Données réelles ajustées pour correspondre à la longueur des prédictions\n",
        "    actual = test[f'price_horizon_{horizon}'].iloc[:len(predictions[horizon])].dropna()\n",
        "\n",
        "    # Prédictions pour l'horizon\n",
        "    predicted = predictions[horizon]\n",
        "\n",
        "    # Remplacer l'index de predicted par celui de actual\n",
        "    predicted.index = actual.index\n",
        "\n",
        "\n",
        "    # Calculer les métriques uniquement sur les tailles correspondantes\n",
        "    mae = mean_absolute_error(actual, predicted)\n",
        "    rmse = np.sqrt(mean_squared_error(actual, predicted))\n",
        "    mape = np.mean(np.abs((actual - predicted) / actual)) * 100\n",
        "\n",
        "    # Stocker les métriques\n",
        "    metrics[horizon] = {'MAE': mae, 'RMSE': rmse, 'MAPE': mape}\n",
        "\n",
        "# Afficher les métriques\n",
        "for horizon, metric in metrics.items():\n",
        "    print(f\"Horizon {horizon}h : MAE = {metric['MAE']:.2f}, RMSE = {metric['RMSE']:.2f}, MAPE = {metric['MAPE']:.2f}%\")\n"
      ]
    },
    {
      "cell_type": "code",
      "execution_count": 1,
      "metadata": {
        "id": "P3ppFaALEPpj"
      },
      "outputs": [
        {
          "ename": "NameError",
          "evalue": "name 'horizons' is not defined",
          "output_type": "error",
          "traceback": [
            "\u001b[1;31m---------------------------------------------------------------------------\u001b[0m",
            "\u001b[1;31mNameError\u001b[0m                                 Traceback (most recent call last)",
            "Cell \u001b[1;32mIn[1], line 6\u001b[0m\n\u001b[0;32m      3\u001b[0m \u001b[38;5;66;03m# Visualiser les prédictions vs. les valeurs réelles\u001b[39;00m\n\u001b[0;32m      4\u001b[0m plt\u001b[38;5;241m.\u001b[39mfigure(figsize\u001b[38;5;241m=\u001b[39m(\u001b[38;5;241m12\u001b[39m, \u001b[38;5;241m6\u001b[39m))\n\u001b[1;32m----> 6\u001b[0m \u001b[38;5;28;01mfor\u001b[39;00m horizon \u001b[38;5;129;01min\u001b[39;00m \u001b[43mhorizons\u001b[49m:\n\u001b[0;32m      7\u001b[0m     plt\u001b[38;5;241m.\u001b[39mplot(test\u001b[38;5;241m.\u001b[39mindex[:\u001b[38;5;28mlen\u001b[39m(predictions[horizon])], predictions[horizon], label\u001b[38;5;241m=\u001b[39m\u001b[38;5;124mf\u001b[39m\u001b[38;5;124m'\u001b[39m\u001b[38;5;124mPrédictions \u001b[39m\u001b[38;5;132;01m{\u001b[39;00mhorizon\u001b[38;5;132;01m}\u001b[39;00m\u001b[38;5;124mh\u001b[39m\u001b[38;5;124m'\u001b[39m)\n\u001b[0;32m      9\u001b[0m \u001b[38;5;66;03m# Tracer les données réelles\u001b[39;00m\n",
            "\u001b[1;31mNameError\u001b[0m: name 'horizons' is not defined"
          ]
        },
        {
          "data": {
            "text/plain": [
              "<Figure size 1200x600 with 0 Axes>"
            ]
          },
          "metadata": {},
          "output_type": "display_data"
        }
      ],
      "source": [
        "\n",
        "import matplotlib.pyplot as plt\n",
        "\n",
        "# Visualiser les prédictions vs. les valeurs réelles\n",
        "plt.figure(figsize=(12, 6))\n",
        "\n",
        "for horizon in horizons:\n",
        "    plt.plot(test.index[:len(predictions[horizon])], predictions[horizon], label=f'Prédictions {horizon}h')\n",
        "\n",
        "# Tracer les données réelles\n",
        "plt.plot(test.index, test['price'], label='Prix Réels', color='black')\n",
        "\n",
        "plt.title('Prédictions Multi-Horizons sur une semaine (entrainement sur Données syntéhtiques)')\n",
        "plt.xlim(pd.to_datetime('2020-01-01'), pd.to_datetime('2020-01-08'))\n",
        "plt.xlabel('Date')\n",
        "plt.ylabel('Prix')\n",
        "plt.legend()\n",
        "plt.show()\n",
        "\n",
        "\n"
      ]
    },
    {
      "cell_type": "code",
      "execution_count": 82,
      "metadata": {},
      "outputs": [
        {
          "name": "stdout",
          "output_type": "stream",
          "text": [
            "<class 'pandas.core.frame.DataFrame'>\n",
            "DatetimeIndex: 8783 entries, 2020-01-01 00:00:00+00:00 to 2020-12-31 22:00:00+00:00\n",
            "Data columns (total 8 columns):\n",
            " #   Column              Non-Null Count  Dtype  \n",
            "---  ------              --------------  -----  \n",
            " 0   price               8783 non-null   float64\n",
            " 1   price_horizon_6     8777 non-null   float64\n",
            " 2   price_horizon_12    8771 non-null   float64\n",
            " 3   price_horizon_24    8759 non-null   float64\n",
            " 4   price_horizon_48    8735 non-null   float64\n",
            " 5   price_horizon_72    8711 non-null   float64\n",
            " 6   price_horizon_168   8615 non-null   float64\n",
            " 7   price_horizon_8760  23 non-null     float64\n",
            "dtypes: float64(8)\n",
            "memory usage: 617.6 KB\n",
            "None\n",
            "                           price  price_horizon_6  price_horizon_12  \\\n",
            "date                                                                  \n",
            "2020-12-31 18:00:00+00:00  60.54              NaN               NaN   \n",
            "2020-12-31 19:00:00+00:00  56.75              NaN               NaN   \n",
            "2020-12-31 20:00:00+00:00  52.44              NaN               NaN   \n",
            "2020-12-31 21:00:00+00:00  51.86              NaN               NaN   \n",
            "2020-12-31 22:00:00+00:00  52.26              NaN               NaN   \n",
            "\n",
            "                           price_horizon_24  price_horizon_48  \\\n",
            "date                                                            \n",
            "2020-12-31 18:00:00+00:00               NaN               NaN   \n",
            "2020-12-31 19:00:00+00:00               NaN               NaN   \n",
            "2020-12-31 20:00:00+00:00               NaN               NaN   \n",
            "2020-12-31 21:00:00+00:00               NaN               NaN   \n",
            "2020-12-31 22:00:00+00:00               NaN               NaN   \n",
            "\n",
            "                           price_horizon_72  price_horizon_168  \\\n",
            "date                                                             \n",
            "2020-12-31 18:00:00+00:00               NaN                NaN   \n",
            "2020-12-31 19:00:00+00:00               NaN                NaN   \n",
            "2020-12-31 20:00:00+00:00               NaN                NaN   \n",
            "2020-12-31 21:00:00+00:00               NaN                NaN   \n",
            "2020-12-31 22:00:00+00:00               NaN                NaN   \n",
            "\n",
            "                           price_horizon_8760  \n",
            "date                                           \n",
            "2020-12-31 18:00:00+00:00                 NaN  \n",
            "2020-12-31 19:00:00+00:00                 NaN  \n",
            "2020-12-31 20:00:00+00:00                 NaN  \n",
            "2020-12-31 21:00:00+00:00                 NaN  \n",
            "2020-12-31 22:00:00+00:00                 NaN  \n"
          ]
        },
        {
          "data": {
            "text/plain": [
              "8783"
            ]
          },
          "execution_count": 82,
          "metadata": {},
          "output_type": "execute_result"
        }
      ],
      "source": [
        "print(test.info())  # Vérifie si test couvre toute l'année\n",
        "print(test.tail())  # Aperçu des premières valeurs\n",
        "len(test)\n"
      ]
    },
    {
      "cell_type": "code",
      "execution_count": 91,
      "metadata": {},
      "outputs": [
        {
          "data": {
            "text/plain": [
              "2020-01-01 00:00:00+00:00    37.03\n",
              "2020-01-01 01:00:00+00:00    35.25\n",
              "2020-01-01 02:00:00+00:00    31.82\n",
              "2020-01-01 03:00:00+00:00    31.67\n",
              "2020-01-01 04:00:00+00:00    34.00\n",
              "2020-01-01 05:00:00+00:00    38.32\n",
              "2020-01-01 06:00:00+00:00    45.86\n",
              "2020-01-01 07:00:00+00:00    50.47\n",
              "2020-01-01 08:00:00+00:00    54.07\n",
              "2020-01-01 09:00:00+00:00    54.66\n",
              "2020-01-01 10:00:00+00:00    54.00\n",
              "2020-01-01 11:00:00+00:00    54.88\n",
              "2020-01-01 12:00:00+00:00    52.36\n",
              "2020-01-01 13:00:00+00:00    53.08\n",
              "2020-01-01 14:00:00+00:00    56.54\n",
              "2020-01-01 15:00:00+00:00    59.20\n",
              "2020-01-01 16:00:00+00:00    61.34\n",
              "2020-01-01 17:00:00+00:00    61.08\n",
              "2020-01-01 18:00:00+00:00    60.54\n",
              "2020-01-01 19:00:00+00:00    56.75\n",
              "2020-01-01 20:00:00+00:00    52.44\n",
              "2020-01-01 21:00:00+00:00    51.86\n",
              "2020-01-01 22:00:00+00:00    52.26\n",
              "2020-01-01 23:00:00+00:00    52.26\n",
              "2020-01-02 00:00:00+00:00    52.26\n",
              "2020-01-02 01:00:00+00:00    52.26\n",
              "Name: price_horizon_8760, dtype: float64"
            ]
          },
          "execution_count": 91,
          "metadata": {},
          "output_type": "execute_result"
        }
      ],
      "source": [
        "actual.head(26)"
      ]
    },
    {
      "cell_type": "code",
      "execution_count": 87,
      "metadata": {},
      "outputs": [
        {
          "name": "stdout",
          "output_type": "stream",
          "text": [
            "date\n",
            "2020-01-01 00:00:00+00:00    37.03\n",
            "2020-01-01 01:00:00+00:00    35.25\n",
            "2020-01-01 02:00:00+00:00    31.82\n",
            "2020-01-01 03:00:00+00:00    31.67\n",
            "2020-01-01 04:00:00+00:00    34.00\n",
            "2020-01-01 05:00:00+00:00    38.32\n",
            "2020-01-01 06:00:00+00:00    45.86\n",
            "2020-01-01 07:00:00+00:00    50.47\n",
            "2020-01-01 08:00:00+00:00    54.07\n",
            "2020-01-01 09:00:00+00:00    54.66\n",
            "2020-01-01 10:00:00+00:00    54.00\n",
            "2020-01-01 11:00:00+00:00    54.88\n",
            "2020-01-01 12:00:00+00:00    52.36\n",
            "2020-01-01 13:00:00+00:00    53.08\n",
            "2020-01-01 14:00:00+00:00    56.54\n",
            "2020-01-01 15:00:00+00:00    59.20\n",
            "2020-01-01 16:00:00+00:00    61.34\n",
            "2020-01-01 17:00:00+00:00    61.08\n",
            "2020-01-01 18:00:00+00:00    60.54\n",
            "2020-01-01 19:00:00+00:00    56.75\n",
            "2020-01-01 20:00:00+00:00    52.44\n",
            "2020-01-01 21:00:00+00:00    51.86\n",
            "2020-01-01 22:00:00+00:00    52.26\n",
            "Name: price, dtype: float64\n"
          ]
        }
      ],
      "source": [
        "actual = test['price'].shift(-horizon).dropna()  # Supprime les NaN\n",
        "print(actual.head(30))"
      ]
    }
  ],
  "metadata": {
    "accelerator": "GPU",
    "colab": {
      "gpuType": "T4",
      "provenance": []
    },
    "kernelspec": {
      "display_name": ".venv",
      "language": "python",
      "name": "python3"
    },
    "language_info": {
      "codemirror_mode": {
        "name": "ipython",
        "version": 3
      },
      "file_extension": ".py",
      "mimetype": "text/x-python",
      "name": "python",
      "nbconvert_exporter": "python",
      "pygments_lexer": "ipython3",
      "version": "3.12.8"
    }
  },
  "nbformat": 4,
  "nbformat_minor": 0
}
